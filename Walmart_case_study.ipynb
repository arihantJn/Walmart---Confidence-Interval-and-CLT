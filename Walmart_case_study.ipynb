{
  "nbformat": 4,
  "nbformat_minor": 0,
  "metadata": {
    "colab": {
      "provenance": [],
      "toc_visible": true
    },
    "kernelspec": {
      "name": "python3",
      "display_name": "Python 3"
    },
    "language_info": {
      "name": "python"
    }
  },
  "cells": [
    {
      "cell_type": "code",
      "execution_count": null,
      "metadata": {
        "id": "8Sud1NBp0ARr"
      },
      "outputs": [],
      "source": [
        "import numpy as np\n",
        "import pandas as pd\n",
        "import seaborn as sns\n",
        "import matplotlib.pyplot as plt\n",
        "import warnings\n",
        "from scipy.stats import norm\n",
        "warnings.filterwarnings('ignore', category=FutureWarning)"
      ]
    },
    {
      "cell_type": "code",
      "source": [
        "!gdown https://d2beiqkhq929f0.cloudfront.net/public_assets/assets/000/001/293/original/walmart_data.csv"
      ],
      "metadata": {
        "colab": {
          "base_uri": "https://localhost:8080/"
        },
        "id": "yMWJNNQY1WLX",
        "outputId": "423b4282-52df-4c6d-8ed9-6b85ce17bba0"
      },
      "execution_count": null,
      "outputs": [
        {
          "output_type": "stream",
          "name": "stdout",
          "text": [
            "Downloading...\n",
            "From: https://d2beiqkhq929f0.cloudfront.net/public_assets/assets/000/001/293/original/walmart_data.csv\n",
            "To: /content/walmart_data.csv\n",
            "100% 23.0M/23.0M [00:00<00:00, 143MB/s] \n"
          ]
        }
      ]
    },
    {
      "cell_type": "code",
      "source": [
        "df=pd.read_csv('walmart_data.csv')\n",
        "df.head()"
      ],
      "metadata": {
        "colab": {
          "base_uri": "https://localhost:8080/",
          "height": 206
        },
        "id": "0ox8ClW91lWn",
        "outputId": "5a553c06-4051-426d-a20c-715067845a50"
      },
      "execution_count": null,
      "outputs": [
        {
          "output_type": "execute_result",
          "data": {
            "text/plain": [
              "   User_ID Product_ID Gender   Age  Occupation City_Category  \\\n",
              "0  1000001  P00069042      F  0-17          10             A   \n",
              "1  1000001  P00248942      F  0-17          10             A   \n",
              "2  1000001  P00087842      F  0-17          10             A   \n",
              "3  1000001  P00085442      F  0-17          10             A   \n",
              "4  1000002  P00285442      M   55+          16             C   \n",
              "\n",
              "  Stay_In_Current_City_Years  Marital_Status  Product_Category  Purchase  \n",
              "0                          2               0                 3      8370  \n",
              "1                          2               0                 1     15200  \n",
              "2                          2               0                12      1422  \n",
              "3                          2               0                12      1057  \n",
              "4                         4+               0                 8      7969  "
            ],
            "text/html": [
              "\n",
              "  <div id=\"df-577b821b-8332-4c88-9aca-811949aaeed9\" class=\"colab-df-container\">\n",
              "    <div>\n",
              "<style scoped>\n",
              "    .dataframe tbody tr th:only-of-type {\n",
              "        vertical-align: middle;\n",
              "    }\n",
              "\n",
              "    .dataframe tbody tr th {\n",
              "        vertical-align: top;\n",
              "    }\n",
              "\n",
              "    .dataframe thead th {\n",
              "        text-align: right;\n",
              "    }\n",
              "</style>\n",
              "<table border=\"1\" class=\"dataframe\">\n",
              "  <thead>\n",
              "    <tr style=\"text-align: right;\">\n",
              "      <th></th>\n",
              "      <th>User_ID</th>\n",
              "      <th>Product_ID</th>\n",
              "      <th>Gender</th>\n",
              "      <th>Age</th>\n",
              "      <th>Occupation</th>\n",
              "      <th>City_Category</th>\n",
              "      <th>Stay_In_Current_City_Years</th>\n",
              "      <th>Marital_Status</th>\n",
              "      <th>Product_Category</th>\n",
              "      <th>Purchase</th>\n",
              "    </tr>\n",
              "  </thead>\n",
              "  <tbody>\n",
              "    <tr>\n",
              "      <th>0</th>\n",
              "      <td>1000001</td>\n",
              "      <td>P00069042</td>\n",
              "      <td>F</td>\n",
              "      <td>0-17</td>\n",
              "      <td>10</td>\n",
              "      <td>A</td>\n",
              "      <td>2</td>\n",
              "      <td>0</td>\n",
              "      <td>3</td>\n",
              "      <td>8370</td>\n",
              "    </tr>\n",
              "    <tr>\n",
              "      <th>1</th>\n",
              "      <td>1000001</td>\n",
              "      <td>P00248942</td>\n",
              "      <td>F</td>\n",
              "      <td>0-17</td>\n",
              "      <td>10</td>\n",
              "      <td>A</td>\n",
              "      <td>2</td>\n",
              "      <td>0</td>\n",
              "      <td>1</td>\n",
              "      <td>15200</td>\n",
              "    </tr>\n",
              "    <tr>\n",
              "      <th>2</th>\n",
              "      <td>1000001</td>\n",
              "      <td>P00087842</td>\n",
              "      <td>F</td>\n",
              "      <td>0-17</td>\n",
              "      <td>10</td>\n",
              "      <td>A</td>\n",
              "      <td>2</td>\n",
              "      <td>0</td>\n",
              "      <td>12</td>\n",
              "      <td>1422</td>\n",
              "    </tr>\n",
              "    <tr>\n",
              "      <th>3</th>\n",
              "      <td>1000001</td>\n",
              "      <td>P00085442</td>\n",
              "      <td>F</td>\n",
              "      <td>0-17</td>\n",
              "      <td>10</td>\n",
              "      <td>A</td>\n",
              "      <td>2</td>\n",
              "      <td>0</td>\n",
              "      <td>12</td>\n",
              "      <td>1057</td>\n",
              "    </tr>\n",
              "    <tr>\n",
              "      <th>4</th>\n",
              "      <td>1000002</td>\n",
              "      <td>P00285442</td>\n",
              "      <td>M</td>\n",
              "      <td>55+</td>\n",
              "      <td>16</td>\n",
              "      <td>C</td>\n",
              "      <td>4+</td>\n",
              "      <td>0</td>\n",
              "      <td>8</td>\n",
              "      <td>7969</td>\n",
              "    </tr>\n",
              "  </tbody>\n",
              "</table>\n",
              "</div>\n",
              "    <div class=\"colab-df-buttons\">\n",
              "\n",
              "  <div class=\"colab-df-container\">\n",
              "    <button class=\"colab-df-convert\" onclick=\"convertToInteractive('df-577b821b-8332-4c88-9aca-811949aaeed9')\"\n",
              "            title=\"Convert this dataframe to an interactive table.\"\n",
              "            style=\"display:none;\">\n",
              "\n",
              "  <svg xmlns=\"http://www.w3.org/2000/svg\" height=\"24px\" viewBox=\"0 -960 960 960\">\n",
              "    <path d=\"M120-120v-720h720v720H120Zm60-500h600v-160H180v160Zm220 220h160v-160H400v160Zm0 220h160v-160H400v160ZM180-400h160v-160H180v160Zm440 0h160v-160H620v160ZM180-180h160v-160H180v160Zm440 0h160v-160H620v160Z\"/>\n",
              "  </svg>\n",
              "    </button>\n",
              "\n",
              "  <style>\n",
              "    .colab-df-container {\n",
              "      display:flex;\n",
              "      gap: 12px;\n",
              "    }\n",
              "\n",
              "    .colab-df-convert {\n",
              "      background-color: #E8F0FE;\n",
              "      border: none;\n",
              "      border-radius: 50%;\n",
              "      cursor: pointer;\n",
              "      display: none;\n",
              "      fill: #1967D2;\n",
              "      height: 32px;\n",
              "      padding: 0 0 0 0;\n",
              "      width: 32px;\n",
              "    }\n",
              "\n",
              "    .colab-df-convert:hover {\n",
              "      background-color: #E2EBFA;\n",
              "      box-shadow: 0px 1px 2px rgba(60, 64, 67, 0.3), 0px 1px 3px 1px rgba(60, 64, 67, 0.15);\n",
              "      fill: #174EA6;\n",
              "    }\n",
              "\n",
              "    .colab-df-buttons div {\n",
              "      margin-bottom: 4px;\n",
              "    }\n",
              "\n",
              "    [theme=dark] .colab-df-convert {\n",
              "      background-color: #3B4455;\n",
              "      fill: #D2E3FC;\n",
              "    }\n",
              "\n",
              "    [theme=dark] .colab-df-convert:hover {\n",
              "      background-color: #434B5C;\n",
              "      box-shadow: 0px 1px 3px 1px rgba(0, 0, 0, 0.15);\n",
              "      filter: drop-shadow(0px 1px 2px rgba(0, 0, 0, 0.3));\n",
              "      fill: #FFFFFF;\n",
              "    }\n",
              "  </style>\n",
              "\n",
              "    <script>\n",
              "      const buttonEl =\n",
              "        document.querySelector('#df-577b821b-8332-4c88-9aca-811949aaeed9 button.colab-df-convert');\n",
              "      buttonEl.style.display =\n",
              "        google.colab.kernel.accessAllowed ? 'block' : 'none';\n",
              "\n",
              "      async function convertToInteractive(key) {\n",
              "        const element = document.querySelector('#df-577b821b-8332-4c88-9aca-811949aaeed9');\n",
              "        const dataTable =\n",
              "          await google.colab.kernel.invokeFunction('convertToInteractive',\n",
              "                                                    [key], {});\n",
              "        if (!dataTable) return;\n",
              "\n",
              "        const docLinkHtml = 'Like what you see? Visit the ' +\n",
              "          '<a target=\"_blank\" href=https://colab.research.google.com/notebooks/data_table.ipynb>data table notebook</a>'\n",
              "          + ' to learn more about interactive tables.';\n",
              "        element.innerHTML = '';\n",
              "        dataTable['output_type'] = 'display_data';\n",
              "        await google.colab.output.renderOutput(dataTable, element);\n",
              "        const docLink = document.createElement('div');\n",
              "        docLink.innerHTML = docLinkHtml;\n",
              "        element.appendChild(docLink);\n",
              "      }\n",
              "    </script>\n",
              "  </div>\n",
              "\n",
              "\n",
              "<div id=\"df-bf2b16fc-9a80-4e04-898f-d3d2db8525da\">\n",
              "  <button class=\"colab-df-quickchart\" onclick=\"quickchart('df-bf2b16fc-9a80-4e04-898f-d3d2db8525da')\"\n",
              "            title=\"Suggest charts\"\n",
              "            style=\"display:none;\">\n",
              "\n",
              "<svg xmlns=\"http://www.w3.org/2000/svg\" height=\"24px\"viewBox=\"0 0 24 24\"\n",
              "     width=\"24px\">\n",
              "    <g>\n",
              "        <path d=\"M19 3H5c-1.1 0-2 .9-2 2v14c0 1.1.9 2 2 2h14c1.1 0 2-.9 2-2V5c0-1.1-.9-2-2-2zM9 17H7v-7h2v7zm4 0h-2V7h2v10zm4 0h-2v-4h2v4z\"/>\n",
              "    </g>\n",
              "</svg>\n",
              "  </button>\n",
              "\n",
              "<style>\n",
              "  .colab-df-quickchart {\n",
              "      --bg-color: #E8F0FE;\n",
              "      --fill-color: #1967D2;\n",
              "      --hover-bg-color: #E2EBFA;\n",
              "      --hover-fill-color: #174EA6;\n",
              "      --disabled-fill-color: #AAA;\n",
              "      --disabled-bg-color: #DDD;\n",
              "  }\n",
              "\n",
              "  [theme=dark] .colab-df-quickchart {\n",
              "      --bg-color: #3B4455;\n",
              "      --fill-color: #D2E3FC;\n",
              "      --hover-bg-color: #434B5C;\n",
              "      --hover-fill-color: #FFFFFF;\n",
              "      --disabled-bg-color: #3B4455;\n",
              "      --disabled-fill-color: #666;\n",
              "  }\n",
              "\n",
              "  .colab-df-quickchart {\n",
              "    background-color: var(--bg-color);\n",
              "    border: none;\n",
              "    border-radius: 50%;\n",
              "    cursor: pointer;\n",
              "    display: none;\n",
              "    fill: var(--fill-color);\n",
              "    height: 32px;\n",
              "    padding: 0;\n",
              "    width: 32px;\n",
              "  }\n",
              "\n",
              "  .colab-df-quickchart:hover {\n",
              "    background-color: var(--hover-bg-color);\n",
              "    box-shadow: 0 1px 2px rgba(60, 64, 67, 0.3), 0 1px 3px 1px rgba(60, 64, 67, 0.15);\n",
              "    fill: var(--button-hover-fill-color);\n",
              "  }\n",
              "\n",
              "  .colab-df-quickchart-complete:disabled,\n",
              "  .colab-df-quickchart-complete:disabled:hover {\n",
              "    background-color: var(--disabled-bg-color);\n",
              "    fill: var(--disabled-fill-color);\n",
              "    box-shadow: none;\n",
              "  }\n",
              "\n",
              "  .colab-df-spinner {\n",
              "    border: 2px solid var(--fill-color);\n",
              "    border-color: transparent;\n",
              "    border-bottom-color: var(--fill-color);\n",
              "    animation:\n",
              "      spin 1s steps(1) infinite;\n",
              "  }\n",
              "\n",
              "  @keyframes spin {\n",
              "    0% {\n",
              "      border-color: transparent;\n",
              "      border-bottom-color: var(--fill-color);\n",
              "      border-left-color: var(--fill-color);\n",
              "    }\n",
              "    20% {\n",
              "      border-color: transparent;\n",
              "      border-left-color: var(--fill-color);\n",
              "      border-top-color: var(--fill-color);\n",
              "    }\n",
              "    30% {\n",
              "      border-color: transparent;\n",
              "      border-left-color: var(--fill-color);\n",
              "      border-top-color: var(--fill-color);\n",
              "      border-right-color: var(--fill-color);\n",
              "    }\n",
              "    40% {\n",
              "      border-color: transparent;\n",
              "      border-right-color: var(--fill-color);\n",
              "      border-top-color: var(--fill-color);\n",
              "    }\n",
              "    60% {\n",
              "      border-color: transparent;\n",
              "      border-right-color: var(--fill-color);\n",
              "    }\n",
              "    80% {\n",
              "      border-color: transparent;\n",
              "      border-right-color: var(--fill-color);\n",
              "      border-bottom-color: var(--fill-color);\n",
              "    }\n",
              "    90% {\n",
              "      border-color: transparent;\n",
              "      border-bottom-color: var(--fill-color);\n",
              "    }\n",
              "  }\n",
              "</style>\n",
              "\n",
              "  <script>\n",
              "    async function quickchart(key) {\n",
              "      const quickchartButtonEl =\n",
              "        document.querySelector('#' + key + ' button');\n",
              "      quickchartButtonEl.disabled = true;  // To prevent multiple clicks.\n",
              "      quickchartButtonEl.classList.add('colab-df-spinner');\n",
              "      try {\n",
              "        const charts = await google.colab.kernel.invokeFunction(\n",
              "            'suggestCharts', [key], {});\n",
              "      } catch (error) {\n",
              "        console.error('Error during call to suggestCharts:', error);\n",
              "      }\n",
              "      quickchartButtonEl.classList.remove('colab-df-spinner');\n",
              "      quickchartButtonEl.classList.add('colab-df-quickchart-complete');\n",
              "    }\n",
              "    (() => {\n",
              "      let quickchartButtonEl =\n",
              "        document.querySelector('#df-bf2b16fc-9a80-4e04-898f-d3d2db8525da button');\n",
              "      quickchartButtonEl.style.display =\n",
              "        google.colab.kernel.accessAllowed ? 'block' : 'none';\n",
              "    })();\n",
              "  </script>\n",
              "</div>\n",
              "\n",
              "    </div>\n",
              "  </div>\n"
            ],
            "application/vnd.google.colaboratory.intrinsic+json": {
              "type": "dataframe",
              "variable_name": "df"
            }
          },
          "metadata": {},
          "execution_count": 3
        }
      ]
    },
    {
      "cell_type": "code",
      "source": [
        "df.shape"
      ],
      "metadata": {
        "colab": {
          "base_uri": "https://localhost:8080/"
        },
        "id": "YIPwvXmu27yr",
        "outputId": "30964baa-e64e-4185-d656-eacb69c5bd3d"
      },
      "execution_count": null,
      "outputs": [
        {
          "output_type": "execute_result",
          "data": {
            "text/plain": [
              "(550068, 10)"
            ]
          },
          "metadata": {},
          "execution_count": 4
        }
      ]
    },
    {
      "cell_type": "code",
      "source": [
        "df.info()"
      ],
      "metadata": {
        "colab": {
          "base_uri": "https://localhost:8080/"
        },
        "id": "w0Unh4NB2-0x",
        "outputId": "3b393cc0-0bc0-462a-8006-0239aa79fb67"
      },
      "execution_count": null,
      "outputs": [
        {
          "output_type": "stream",
          "name": "stdout",
          "text": [
            "<class 'pandas.core.frame.DataFrame'>\n",
            "RangeIndex: 550068 entries, 0 to 550067\n",
            "Data columns (total 10 columns):\n",
            " #   Column                      Non-Null Count   Dtype \n",
            "---  ------                      --------------   ----- \n",
            " 0   User_ID                     550068 non-null  int64 \n",
            " 1   Product_ID                  550068 non-null  object\n",
            " 2   Gender                      550068 non-null  object\n",
            " 3   Age                         550068 non-null  object\n",
            " 4   Occupation                  550068 non-null  int64 \n",
            " 5   City_Category               550068 non-null  object\n",
            " 6   Stay_In_Current_City_Years  550068 non-null  object\n",
            " 7   Marital_Status              550068 non-null  int64 \n",
            " 8   Product_Category            550068 non-null  int64 \n",
            " 9   Purchase                    550068 non-null  int64 \n",
            "dtypes: int64(5), object(5)\n",
            "memory usage: 42.0+ MB\n"
          ]
        }
      ]
    },
    {
      "cell_type": "code",
      "source": [
        "df.describe()"
      ],
      "metadata": {
        "colab": {
          "base_uri": "https://localhost:8080/",
          "height": 300
        },
        "id": "vSgV-oFs3hHk",
        "outputId": "20a0af2d-ed94-4369-87be-9c0a68b1da72"
      },
      "execution_count": null,
      "outputs": [
        {
          "output_type": "execute_result",
          "data": {
            "text/plain": [
              "            User_ID     Occupation  Marital_Status  Product_Category  \\\n",
              "count  5.500680e+05  550068.000000   550068.000000     550068.000000   \n",
              "mean   1.003029e+06       8.076707        0.409653          5.404270   \n",
              "std    1.727592e+03       6.522660        0.491770          3.936211   \n",
              "min    1.000001e+06       0.000000        0.000000          1.000000   \n",
              "25%    1.001516e+06       2.000000        0.000000          1.000000   \n",
              "50%    1.003077e+06       7.000000        0.000000          5.000000   \n",
              "75%    1.004478e+06      14.000000        1.000000          8.000000   \n",
              "max    1.006040e+06      20.000000        1.000000         20.000000   \n",
              "\n",
              "            Purchase  \n",
              "count  550068.000000  \n",
              "mean     9263.968713  \n",
              "std      5023.065394  \n",
              "min        12.000000  \n",
              "25%      5823.000000  \n",
              "50%      8047.000000  \n",
              "75%     12054.000000  \n",
              "max     23961.000000  "
            ],
            "text/html": [
              "\n",
              "  <div id=\"df-e20e2a2e-632c-4134-bbfa-ef433cd88246\" class=\"colab-df-container\">\n",
              "    <div>\n",
              "<style scoped>\n",
              "    .dataframe tbody tr th:only-of-type {\n",
              "        vertical-align: middle;\n",
              "    }\n",
              "\n",
              "    .dataframe tbody tr th {\n",
              "        vertical-align: top;\n",
              "    }\n",
              "\n",
              "    .dataframe thead th {\n",
              "        text-align: right;\n",
              "    }\n",
              "</style>\n",
              "<table border=\"1\" class=\"dataframe\">\n",
              "  <thead>\n",
              "    <tr style=\"text-align: right;\">\n",
              "      <th></th>\n",
              "      <th>User_ID</th>\n",
              "      <th>Occupation</th>\n",
              "      <th>Marital_Status</th>\n",
              "      <th>Product_Category</th>\n",
              "      <th>Purchase</th>\n",
              "    </tr>\n",
              "  </thead>\n",
              "  <tbody>\n",
              "    <tr>\n",
              "      <th>count</th>\n",
              "      <td>5.500680e+05</td>\n",
              "      <td>550068.000000</td>\n",
              "      <td>550068.000000</td>\n",
              "      <td>550068.000000</td>\n",
              "      <td>550068.000000</td>\n",
              "    </tr>\n",
              "    <tr>\n",
              "      <th>mean</th>\n",
              "      <td>1.003029e+06</td>\n",
              "      <td>8.076707</td>\n",
              "      <td>0.409653</td>\n",
              "      <td>5.404270</td>\n",
              "      <td>9263.968713</td>\n",
              "    </tr>\n",
              "    <tr>\n",
              "      <th>std</th>\n",
              "      <td>1.727592e+03</td>\n",
              "      <td>6.522660</td>\n",
              "      <td>0.491770</td>\n",
              "      <td>3.936211</td>\n",
              "      <td>5023.065394</td>\n",
              "    </tr>\n",
              "    <tr>\n",
              "      <th>min</th>\n",
              "      <td>1.000001e+06</td>\n",
              "      <td>0.000000</td>\n",
              "      <td>0.000000</td>\n",
              "      <td>1.000000</td>\n",
              "      <td>12.000000</td>\n",
              "    </tr>\n",
              "    <tr>\n",
              "      <th>25%</th>\n",
              "      <td>1.001516e+06</td>\n",
              "      <td>2.000000</td>\n",
              "      <td>0.000000</td>\n",
              "      <td>1.000000</td>\n",
              "      <td>5823.000000</td>\n",
              "    </tr>\n",
              "    <tr>\n",
              "      <th>50%</th>\n",
              "      <td>1.003077e+06</td>\n",
              "      <td>7.000000</td>\n",
              "      <td>0.000000</td>\n",
              "      <td>5.000000</td>\n",
              "      <td>8047.000000</td>\n",
              "    </tr>\n",
              "    <tr>\n",
              "      <th>75%</th>\n",
              "      <td>1.004478e+06</td>\n",
              "      <td>14.000000</td>\n",
              "      <td>1.000000</td>\n",
              "      <td>8.000000</td>\n",
              "      <td>12054.000000</td>\n",
              "    </tr>\n",
              "    <tr>\n",
              "      <th>max</th>\n",
              "      <td>1.006040e+06</td>\n",
              "      <td>20.000000</td>\n",
              "      <td>1.000000</td>\n",
              "      <td>20.000000</td>\n",
              "      <td>23961.000000</td>\n",
              "    </tr>\n",
              "  </tbody>\n",
              "</table>\n",
              "</div>\n",
              "    <div class=\"colab-df-buttons\">\n",
              "\n",
              "  <div class=\"colab-df-container\">\n",
              "    <button class=\"colab-df-convert\" onclick=\"convertToInteractive('df-e20e2a2e-632c-4134-bbfa-ef433cd88246')\"\n",
              "            title=\"Convert this dataframe to an interactive table.\"\n",
              "            style=\"display:none;\">\n",
              "\n",
              "  <svg xmlns=\"http://www.w3.org/2000/svg\" height=\"24px\" viewBox=\"0 -960 960 960\">\n",
              "    <path d=\"M120-120v-720h720v720H120Zm60-500h600v-160H180v160Zm220 220h160v-160H400v160Zm0 220h160v-160H400v160ZM180-400h160v-160H180v160Zm440 0h160v-160H620v160ZM180-180h160v-160H180v160Zm440 0h160v-160H620v160Z\"/>\n",
              "  </svg>\n",
              "    </button>\n",
              "\n",
              "  <style>\n",
              "    .colab-df-container {\n",
              "      display:flex;\n",
              "      gap: 12px;\n",
              "    }\n",
              "\n",
              "    .colab-df-convert {\n",
              "      background-color: #E8F0FE;\n",
              "      border: none;\n",
              "      border-radius: 50%;\n",
              "      cursor: pointer;\n",
              "      display: none;\n",
              "      fill: #1967D2;\n",
              "      height: 32px;\n",
              "      padding: 0 0 0 0;\n",
              "      width: 32px;\n",
              "    }\n",
              "\n",
              "    .colab-df-convert:hover {\n",
              "      background-color: #E2EBFA;\n",
              "      box-shadow: 0px 1px 2px rgba(60, 64, 67, 0.3), 0px 1px 3px 1px rgba(60, 64, 67, 0.15);\n",
              "      fill: #174EA6;\n",
              "    }\n",
              "\n",
              "    .colab-df-buttons div {\n",
              "      margin-bottom: 4px;\n",
              "    }\n",
              "\n",
              "    [theme=dark] .colab-df-convert {\n",
              "      background-color: #3B4455;\n",
              "      fill: #D2E3FC;\n",
              "    }\n",
              "\n",
              "    [theme=dark] .colab-df-convert:hover {\n",
              "      background-color: #434B5C;\n",
              "      box-shadow: 0px 1px 3px 1px rgba(0, 0, 0, 0.15);\n",
              "      filter: drop-shadow(0px 1px 2px rgba(0, 0, 0, 0.3));\n",
              "      fill: #FFFFFF;\n",
              "    }\n",
              "  </style>\n",
              "\n",
              "    <script>\n",
              "      const buttonEl =\n",
              "        document.querySelector('#df-e20e2a2e-632c-4134-bbfa-ef433cd88246 button.colab-df-convert');\n",
              "      buttonEl.style.display =\n",
              "        google.colab.kernel.accessAllowed ? 'block' : 'none';\n",
              "\n",
              "      async function convertToInteractive(key) {\n",
              "        const element = document.querySelector('#df-e20e2a2e-632c-4134-bbfa-ef433cd88246');\n",
              "        const dataTable =\n",
              "          await google.colab.kernel.invokeFunction('convertToInteractive',\n",
              "                                                    [key], {});\n",
              "        if (!dataTable) return;\n",
              "\n",
              "        const docLinkHtml = 'Like what you see? Visit the ' +\n",
              "          '<a target=\"_blank\" href=https://colab.research.google.com/notebooks/data_table.ipynb>data table notebook</a>'\n",
              "          + ' to learn more about interactive tables.';\n",
              "        element.innerHTML = '';\n",
              "        dataTable['output_type'] = 'display_data';\n",
              "        await google.colab.output.renderOutput(dataTable, element);\n",
              "        const docLink = document.createElement('div');\n",
              "        docLink.innerHTML = docLinkHtml;\n",
              "        element.appendChild(docLink);\n",
              "      }\n",
              "    </script>\n",
              "  </div>\n",
              "\n",
              "\n",
              "<div id=\"df-d57b64d1-b165-433b-96d7-680fd3956412\">\n",
              "  <button class=\"colab-df-quickchart\" onclick=\"quickchart('df-d57b64d1-b165-433b-96d7-680fd3956412')\"\n",
              "            title=\"Suggest charts\"\n",
              "            style=\"display:none;\">\n",
              "\n",
              "<svg xmlns=\"http://www.w3.org/2000/svg\" height=\"24px\"viewBox=\"0 0 24 24\"\n",
              "     width=\"24px\">\n",
              "    <g>\n",
              "        <path d=\"M19 3H5c-1.1 0-2 .9-2 2v14c0 1.1.9 2 2 2h14c1.1 0 2-.9 2-2V5c0-1.1-.9-2-2-2zM9 17H7v-7h2v7zm4 0h-2V7h2v10zm4 0h-2v-4h2v4z\"/>\n",
              "    </g>\n",
              "</svg>\n",
              "  </button>\n",
              "\n",
              "<style>\n",
              "  .colab-df-quickchart {\n",
              "      --bg-color: #E8F0FE;\n",
              "      --fill-color: #1967D2;\n",
              "      --hover-bg-color: #E2EBFA;\n",
              "      --hover-fill-color: #174EA6;\n",
              "      --disabled-fill-color: #AAA;\n",
              "      --disabled-bg-color: #DDD;\n",
              "  }\n",
              "\n",
              "  [theme=dark] .colab-df-quickchart {\n",
              "      --bg-color: #3B4455;\n",
              "      --fill-color: #D2E3FC;\n",
              "      --hover-bg-color: #434B5C;\n",
              "      --hover-fill-color: #FFFFFF;\n",
              "      --disabled-bg-color: #3B4455;\n",
              "      --disabled-fill-color: #666;\n",
              "  }\n",
              "\n",
              "  .colab-df-quickchart {\n",
              "    background-color: var(--bg-color);\n",
              "    border: none;\n",
              "    border-radius: 50%;\n",
              "    cursor: pointer;\n",
              "    display: none;\n",
              "    fill: var(--fill-color);\n",
              "    height: 32px;\n",
              "    padding: 0;\n",
              "    width: 32px;\n",
              "  }\n",
              "\n",
              "  .colab-df-quickchart:hover {\n",
              "    background-color: var(--hover-bg-color);\n",
              "    box-shadow: 0 1px 2px rgba(60, 64, 67, 0.3), 0 1px 3px 1px rgba(60, 64, 67, 0.15);\n",
              "    fill: var(--button-hover-fill-color);\n",
              "  }\n",
              "\n",
              "  .colab-df-quickchart-complete:disabled,\n",
              "  .colab-df-quickchart-complete:disabled:hover {\n",
              "    background-color: var(--disabled-bg-color);\n",
              "    fill: var(--disabled-fill-color);\n",
              "    box-shadow: none;\n",
              "  }\n",
              "\n",
              "  .colab-df-spinner {\n",
              "    border: 2px solid var(--fill-color);\n",
              "    border-color: transparent;\n",
              "    border-bottom-color: var(--fill-color);\n",
              "    animation:\n",
              "      spin 1s steps(1) infinite;\n",
              "  }\n",
              "\n",
              "  @keyframes spin {\n",
              "    0% {\n",
              "      border-color: transparent;\n",
              "      border-bottom-color: var(--fill-color);\n",
              "      border-left-color: var(--fill-color);\n",
              "    }\n",
              "    20% {\n",
              "      border-color: transparent;\n",
              "      border-left-color: var(--fill-color);\n",
              "      border-top-color: var(--fill-color);\n",
              "    }\n",
              "    30% {\n",
              "      border-color: transparent;\n",
              "      border-left-color: var(--fill-color);\n",
              "      border-top-color: var(--fill-color);\n",
              "      border-right-color: var(--fill-color);\n",
              "    }\n",
              "    40% {\n",
              "      border-color: transparent;\n",
              "      border-right-color: var(--fill-color);\n",
              "      border-top-color: var(--fill-color);\n",
              "    }\n",
              "    60% {\n",
              "      border-color: transparent;\n",
              "      border-right-color: var(--fill-color);\n",
              "    }\n",
              "    80% {\n",
              "      border-color: transparent;\n",
              "      border-right-color: var(--fill-color);\n",
              "      border-bottom-color: var(--fill-color);\n",
              "    }\n",
              "    90% {\n",
              "      border-color: transparent;\n",
              "      border-bottom-color: var(--fill-color);\n",
              "    }\n",
              "  }\n",
              "</style>\n",
              "\n",
              "  <script>\n",
              "    async function quickchart(key) {\n",
              "      const quickchartButtonEl =\n",
              "        document.querySelector('#' + key + ' button');\n",
              "      quickchartButtonEl.disabled = true;  // To prevent multiple clicks.\n",
              "      quickchartButtonEl.classList.add('colab-df-spinner');\n",
              "      try {\n",
              "        const charts = await google.colab.kernel.invokeFunction(\n",
              "            'suggestCharts', [key], {});\n",
              "      } catch (error) {\n",
              "        console.error('Error during call to suggestCharts:', error);\n",
              "      }\n",
              "      quickchartButtonEl.classList.remove('colab-df-spinner');\n",
              "      quickchartButtonEl.classList.add('colab-df-quickchart-complete');\n",
              "    }\n",
              "    (() => {\n",
              "      let quickchartButtonEl =\n",
              "        document.querySelector('#df-d57b64d1-b165-433b-96d7-680fd3956412 button');\n",
              "      quickchartButtonEl.style.display =\n",
              "        google.colab.kernel.accessAllowed ? 'block' : 'none';\n",
              "    })();\n",
              "  </script>\n",
              "</div>\n",
              "\n",
              "    </div>\n",
              "  </div>\n"
            ],
            "application/vnd.google.colaboratory.intrinsic+json": {
              "type": "dataframe",
              "summary": "{\n  \"name\": \"df\",\n  \"rows\": 8,\n  \"fields\": [\n    {\n      \"column\": \"User_ID\",\n      \"properties\": {\n        \"dtype\": \"number\",\n        \"std\": 367117.89753373514,\n        \"min\": 1727.5915855306216,\n        \"max\": 1006040.0,\n        \"num_unique_values\": 8,\n        \"samples\": [\n          1003028.8424013031,\n          1003077.0,\n          550068.0\n        ],\n        \"semantic_type\": \"\",\n        \"description\": \"\"\n      }\n    },\n    {\n      \"column\": \"Occupation\",\n      \"properties\": {\n        \"dtype\": \"number\",\n        \"std\": 194475.49735336297,\n        \"min\": 0.0,\n        \"max\": 550068.0,\n        \"num_unique_values\": 8,\n        \"samples\": [\n          8.076706879876669,\n          7.0,\n          550068.0\n        ],\n        \"semantic_type\": \"\",\n        \"description\": \"\"\n      }\n    },\n    {\n      \"column\": \"Marital_Status\",\n      \"properties\": {\n        \"dtype\": \"number\",\n        \"std\": 194478.25991330712,\n        \"min\": 0.0,\n        \"max\": 550068.0,\n        \"num_unique_values\": 5,\n        \"samples\": [\n          0.40965298835780306,\n          1.0,\n          0.4917701263166973\n        ],\n        \"semantic_type\": \"\",\n        \"description\": \"\"\n      }\n    },\n    {\n      \"column\": \"Product_Category\",\n      \"properties\": {\n        \"dtype\": \"number\",\n        \"std\": 194476.16701795225,\n        \"min\": 1.0,\n        \"max\": 550068.0,\n        \"num_unique_values\": 7,\n        \"samples\": [\n          550068.0,\n          5.404270017525106,\n          8.0\n        ],\n        \"semantic_type\": \"\",\n        \"description\": \"\"\n      }\n    },\n    {\n      \"column\": \"Purchase\",\n      \"properties\": {\n        \"dtype\": \"number\",\n        \"std\": 191363.80903912007,\n        \"min\": 12.0,\n        \"max\": 550068.0,\n        \"num_unique_values\": 8,\n        \"samples\": [\n          9263.968712959126,\n          8047.0,\n          550068.0\n        ],\n        \"semantic_type\": \"\",\n        \"description\": \"\"\n      }\n    }\n  ]\n}"
            }
          },
          "metadata": {},
          "execution_count": 6
        }
      ]
    },
    {
      "cell_type": "markdown",
      "source": [
        "For the Purchase column, here’s a focused look at the descriptive statistics, specifically analyzing the difference between the mean and median:\n",
        "\n",
        "Descriptive Statistics for Purchase Column\n",
        "Mean: 9,263.97\n",
        "Median (50%): 8,047.0\n",
        "Difference: Mean is higher than the median by 1,216.97\n",
        "Interpretation\n",
        "The higher mean relative to the median indicates a right-skewed distribution. In this context:\n",
        "\n",
        "Right Skew: A right-skewed distribution suggests that while most customers have purchase amounts clustered around the median (around 8,047), there are some significantly higher purchase amounts that raise the mean. These higher values are likely due to a smaller subset of customers making large purchases.\n",
        "\n",
        "Impact on Analysis: This skewness suggests that the mean might overestimate typical spending for the average customer. For business analysis, median could be a more representative measure of typical customer spending since it isn’t as influenced by high outliers.\n",
        "\n",
        "Business Insight\n",
        "For Walmart, this means that while targeting high-spending customers could increase revenue, the majority of customers are likely making moderate-sized purchases. This insight might help in designing tiered marketing strategies that cater to both average and high spenders."
      ],
      "metadata": {
        "id": "DIJTjpksKkW-"
      }
    },
    {
      "cell_type": "markdown",
      "source": [
        "# Data Cleaning and Data Imputation"
      ],
      "metadata": {
        "id": "V17Ne4YB7DaK"
      }
    },
    {
      "cell_type": "code",
      "source": [
        "# Loop through each column and print the count of NaN values\\\n",
        "\n",
        "for col in df.columns:\n",
        "  nan_count=df[col].isna().sum()\n",
        "  print(\"Column \",col,\" has \",nan_count,\" NaN values and NAN% is \",nan_count/len(df[col]*100))\n"
      ],
      "metadata": {
        "colab": {
          "base_uri": "https://localhost:8080/"
        },
        "id": "1VbNY57-7F8j",
        "outputId": "8b480f7b-b05d-4f4c-a79b-bd70356ff3f7"
      },
      "execution_count": null,
      "outputs": [
        {
          "output_type": "stream",
          "name": "stdout",
          "text": [
            "Column  User_ID  has  0  NaN values and NAN% is  0.0\n",
            "Column  Product_ID  has  0  NaN values and NAN% is  0.0\n",
            "Column  Gender  has  0  NaN values and NAN% is  0.0\n",
            "Column  Age  has  0  NaN values and NAN% is  0.0\n",
            "Column  Occupation  has  0  NaN values and NAN% is  0.0\n",
            "Column  City_Category  has  0  NaN values and NAN% is  0.0\n",
            "Column  Stay_In_Current_City_Years  has  0  NaN values and NAN% is  0.0\n",
            "Column  Marital_Status  has  0  NaN values and NAN% is  0.0\n",
            "Column  Product_Category  has  0  NaN values and NAN% is  0.0\n",
            "Column  Purchase  has  0  NaN values and NAN% is  0.0\n"
          ]
        }
      ]
    },
    {
      "cell_type": "markdown",
      "source": [
        "Since we dont have NULL values in any of the given columns in the dataset, hence no need to do data imputation."
      ],
      "metadata": {
        "id": "xWfbqHoe8MqR"
      }
    },
    {
      "cell_type": "markdown",
      "source": [
        "# Checking outliers via boxplots"
      ],
      "metadata": {
        "id": "K89pW6Gf8lK3"
      }
    },
    {
      "cell_type": "code",
      "source": [
        "plt.figure(figsize=(8,4))\n",
        "sns.boxplot(data=df,x='Purchase')\n",
        "plt.title('Boxplot of Purchase Values')\n",
        "plt.xlabel('Purchase Amount')"
      ],
      "metadata": {
        "colab": {
          "base_uri": "https://localhost:8080/",
          "height": 428
        },
        "id": "1neRQ_UZ8hR7",
        "outputId": "f7431c84-2b0b-4dfd-9c1d-825aab900eca"
      },
      "execution_count": null,
      "outputs": [
        {
          "output_type": "execute_result",
          "data": {
            "text/plain": [
              "Text(0.5, 0, 'Purchase Amount')"
            ]
          },
          "metadata": {},
          "execution_count": 44
        },
        {
          "output_type": "display_data",
          "data": {
            "text/plain": [
              "<Figure size 800x400 with 1 Axes>"
            ],
            "image/png": "[encoded data removed]"
          },
          "metadata": {}
        }
      ]
    },
    {
      "cell_type": "markdown",
      "source": [
        "Retain Outliers for initial analysis, as they could help reveal interesting spending patterns across demographics."
      ],
      "metadata": {
        "id": "JQ0PWJ2kGM4o"
      }
    },
    {
      "cell_type": "markdown",
      "source": [
        "# Exploratory Data Analysis (EDA)"
      ],
      "metadata": {
        "id": "eo6RJPLpqpnC"
      }
    },
    {
      "cell_type": "markdown",
      "source": [
        "## Univariate analysis"
      ],
      "metadata": {
        "id": "jyJG-UFJquaB"
      }
    },
    {
      "cell_type": "markdown",
      "source": [
        "Continuous Variables: Histograms, Count Plots, and Distplots"
      ],
      "metadata": {
        "id": "1ujGyNnSrGp_"
      }
    },
    {
      "cell_type": "code",
      "source": [
        "# Histogram for the Purchase column\n",
        "plt.figure(figsize=(5, 4))\n",
        "plt.hist(df['Purchase'], bins=30, color='skyblue', edgecolor='black')\n",
        "plt.title('Histogram of Purchase Amounts')\n",
        "plt.xlabel('Purchase Amount')\n",
        "plt.ylabel('Frequency')\n",
        "plt.show()\n",
        "\n",
        "# Distribution plot (distplot) for Purchase\n",
        "plt.figure(figsize=(8, 5))\n",
        "sns.histplot(df['Purchase'], kde=True, color='skyblue')\n",
        "plt.title('Distribution of Purchase Amounts')\n",
        "plt.xlabel('Purchase Amount')\n",
        "plt.ylabel('Density')\n",
        "plt.show()"
      ],
      "metadata": {
        "colab": {
          "base_uri": "https://localhost:8080/",
          "height": 880
        },
        "id": "JZj9uUnDqtNd",
        "outputId": "b9402f11-86b6-4a13-a120-9d4f614919e6"
      },
      "execution_count": null,
      "outputs": [
        {
          "output_type": "display_data",
          "data": {
            "text/plain": [
              "<Figure size 500x400 with 1 Axes>"
            ],
            "image/png": "[encoded data removed]"
          },
          "metadata": {}
        },
        {
          "output_type": "display_data",
          "data": {
            "text/plain": [
              "<Figure size 800x500 with 1 Axes>"
            ],
            "image/png": "[encoded data removed]"
          },
          "metadata": {}
        }
      ]
    },
    {
      "cell_type": "markdown",
      "source": [
        "Categorical Variables: Bar Plots"
      ],
      "metadata": {
        "id": "GSRpF-BZrIdc"
      }
    },
    {
      "cell_type": "code",
      "source": [
        "# Bar plot for Gender\n",
        "plt.figure(figsize=(5, 3))\n",
        "sns.countplot(x='Gender', data=df, palette='viridis')\n",
        "plt.title('Count of Gender')\n",
        "plt.xlabel('Gender')\n",
        "plt.ylabel('Count')\n",
        "plt.show()\n",
        "\n",
        "# Bar plot for City_Category\n",
        "plt.figure(figsize=(5, 3))\n",
        "sns.countplot(x='City_Category', data=df, palette='viridis')\n",
        "plt.title('Count of City Categories')\n",
        "plt.xlabel('City Category')\n",
        "plt.ylabel('Count')\n",
        "plt.show()"
      ],
      "metadata": {
        "colab": {
          "base_uri": "https://localhost:8080/",
          "height": 649
        },
        "id": "wQ23vPVKrMuk",
        "outputId": "6d30dafd-fba2-4f27-8b56-867e9047f9ba"
      },
      "execution_count": null,
      "outputs": [
        {
          "output_type": "display_data",
          "data": {
            "text/plain": [
              "<Figure size 500x300 with 1 Axes>"
            ],
            "image/png": "[encoded data removed]"
          },
          "metadata": {}
        },
        {
          "output_type": "display_data",
          "data": {
            "text/plain": [
              "<Figure size 500x300 with 1 Axes>"
            ],
            "image/png": "[encoded data removed]"
          },
          "metadata": {}
        }
      ]
    },
    {
      "cell_type": "markdown",
      "source": [
        "## Bivariate Analysis"
      ],
      "metadata": {
        "id": "S_TStOVMrVYW"
      }
    },
    {
      "cell_type": "markdown",
      "source": [
        "Boxplots for Purchase by Gender, Marital_Status, and Age Bins\n"
      ],
      "metadata": {
        "id": "uc_Wy7lSreLa"
      }
    },
    {
      "cell_type": "code",
      "source": [
        "# Select only numeric columns for the correlation matrix\n",
        "numeric_df = df.select_dtypes(include=['number'])\n",
        "\n",
        "# Generate the heatmap for correlations between numeric columns only\n",
        "plt.figure(figsize=(8, 6))\n",
        "sns.heatmap(numeric_df.corr(), annot=True, cmap='coolwarm', fmt=\".2f\")\n",
        "plt.title('Correlation Heatmap')\n",
        "plt.show()\n"
      ],
      "metadata": {
        "colab": {
          "base_uri": "https://localhost:8080/",
          "height": 654
        },
        "id": "CJLll2KErfDw",
        "outputId": "2b4a797c-72ad-4529-ecea-83a6f4961b29"
      },
      "execution_count": null,
      "outputs": [
        {
          "output_type": "display_data",
          "data": {
            "text/plain": [
              "<Figure size 800x600 with 2 Axes>"
            ],
            "image/png": "[encoded data removed]"
          },
          "metadata": {}
        }
      ]
    },
    {
      "cell_type": "markdown",
      "source": [
        "# Data Exploration"
      ],
      "metadata": {
        "id": "mcJIleJtHB43"
      }
    },
    {
      "cell_type": "code",
      "source": [
        "#Separate male and female customers in the data.\n",
        "female_customers=df[df['Gender']=='F']\n",
        "male_customers=df[df['Gender']=='M']\n",
        "\n",
        "#Calculate the Total and Average Purchase gender wise\n",
        "avg_female_purchase=female_customers['Purchase'].mean()\n",
        "avg_male_purchase=male_customers['Purchase'].mean()\n",
        "\n",
        "total_female_purchase=female_customers['Purchase'].sum()\n",
        "total_male_purchase=male_customers['Purchase'].sum()\n",
        "\n",
        "print(\"Average Purchase by Female Customers:\", avg_female_purchase)\n",
        "print(\"Average Purchase by Male Customers:\", avg_male_purchase)\n",
        "print(\"Total Purchase by Female Customers:\", total_female_purchase)\n",
        "print(\"Total Purchase by Male Customers:\", total_male_purchase)\n",
        "\n",
        "if(avg_female_purchase>=avg_male_purchase):\n",
        "  print(\"On an avg Female purchase more than Male as per walmart dataset\")\n",
        "else:\n",
        "  print(\"On an avg Male purchase more than Female as per walmart dataset\")\n",
        "\n",
        "if(total_female_purchase>=total_male_purchase):\n",
        "  print(\"Total Female purchase value is more than Male purchase value as per walmart dataset\")\n",
        "else:\n",
        "  print(\"Total Male purchase value is more than Total Female purchase value as per walmart dataset\")\n"
      ],
      "metadata": {
        "colab": {
          "base_uri": "https://localhost:8080/"
        },
        "id": "CBRagVLMGOB7",
        "outputId": "42350b75-107c-4082-a4ab-5a86d4db45ac"
      },
      "execution_count": null,
      "outputs": [
        {
          "output_type": "stream",
          "name": "stdout",
          "text": [
            "Average Purchase by Female Customers: 8734.565765155476\n",
            "Average Purchase by Male Customers: 9437.526040472265\n",
            "Total Purchase by Female Customers: 1186232642\n",
            "Total Purchase by Male Customers: 3909580100\n",
            "On an avg Male purchase more than Female as per walmart dataset\n",
            "Total Male purchase value is more than Total Female purchase value as per walmart dataset\n"
          ]
        }
      ]
    },
    {
      "cell_type": "markdown",
      "source": [
        "# Confidence Interval and CLT Analysis"
      ],
      "metadata": {
        "id": "uK2inK1J70bn"
      }
    },
    {
      "cell_type": "code",
      "source": [
        "std_dev=df['Purchase'].std()\n",
        "print(\"Population std deviation is \",std_dev)"
      ],
      "metadata": {
        "colab": {
          "base_uri": "https://localhost:8080/"
        },
        "id": "tc8WmiTOZ3hQ",
        "outputId": "d0ece839-84af-41bd-e06a-78b114ddef89"
      },
      "execution_count": null,
      "outputs": [
        {
          "output_type": "stream",
          "name": "stdout",
          "text": [
            "Population std deviation is  5023.065393820627\n"
          ]
        }
      ]
    },
    {
      "cell_type": "markdown",
      "source": [
        "##Gender-Based Analysis"
      ],
      "metadata": {
        "id": "0smO_DR-79Jj"
      }
    },
    {
      "cell_type": "markdown",
      "source": [
        "Calculate Confidence interval over entire population (dataset)"
      ],
      "metadata": {
        "id": "qNzq_AVZ8W4y"
      }
    },
    {
      "cell_type": "markdown",
      "source": [
        "CI calculation using male and female samples respectively"
      ],
      "metadata": {
        "id": "x2UmUvjWanwg"
      }
    },
    {
      "cell_type": "code",
      "source": [
        "# CI using female sample\n",
        "\n",
        "#(95% confidence interval)\n",
        "print(\"90% confidence interval is \",norm.interval(confidence=0.90,loc=avg_female_purchase,scale=std_dev/len(female_customers)))\n",
        "\n",
        "#(95% confidence interval)\n",
        "print(\"95% confidence interval is \",norm.interval(confidence=0.95,loc=avg_female_purchase,scale=std_dev/len(female_customers)))\n",
        "\n",
        "#(99% confidence interval)\n",
        "print(\"99% confidence interval is \",norm.interval(confidence=0.99,loc=avg_female_purchase,scale=std_dev/len(female_customers)))\n",
        "\n",
        "\n"
      ],
      "metadata": {
        "colab": {
          "base_uri": "https://localhost:8080/"
        },
        "id": "sIAM6NBp8BgO",
        "outputId": "8fbfcb77-b72d-4992-a0ff-8ae66a5cfc15"
      },
      "execution_count": null,
      "outputs": [
        {
          "output_type": "stream",
          "name": "stdout",
          "text": [
            "90% confidence interval is  (8734.50492819083, 8734.62660212012)\n",
            "95% confidence interval is  (8734.493273440907, 8734.638256870045)\n",
            "99% confidence interval is  (8734.470494893305, 8734.661035417646)\n"
          ]
        }
      ]
    },
    {
      "cell_type": "code",
      "source": [
        "# CI using male sample\n",
        "\n",
        "#(95% confidence interval)\n",
        "print(\"90% confidence interval is \",norm.interval(confidence=0.90,loc=avg_male_purchase,scale=std_dev/len(male_customers)))\n",
        "\n",
        "#(95% confidence interval)\n",
        "print(\"95% confidence interval is \",norm.interval(confidence=0.95,loc=avg_male_purchase,scale=std_dev/len(male_customers)))\n",
        "\n",
        "#(99% confidence interval)\n",
        "print(\"99% confidence interval is \",norm.interval(confidence=0.99,loc=avg_male_purchase,scale=std_dev/len(male_customers)))\n"
      ],
      "metadata": {
        "colab": {
          "base_uri": "https://localhost:8080/"
        },
        "id": "UJIkCo3PdemV",
        "outputId": "ec4ab8fa-26c5-4831-b7a9-c5ba7b7f3dbb"
      },
      "execution_count": null,
      "outputs": [
        {
          "output_type": "stream",
          "name": "stdout",
          "text": [
            "90% confidence interval is  (9437.50609592711, 9437.54598501742)\n",
            "95% confidence interval is  (9437.502275080895, 9437.549805863635)\n",
            "99% confidence interval is  (9437.494807453706, 9437.557273490824)\n"
          ]
        }
      ]
    },
    {
      "cell_type": "markdown",
      "source": [
        "## Marital status based analysis"
      ],
      "metadata": {
        "id": "P_5Ct3lUeVnm"
      }
    },
    {
      "cell_type": "code",
      "source": [
        "#Separate married and unmarried customers in the data.\n",
        "married_customers=df[df['Marital_Status']==1]\n",
        "unmarried_customers=df[df['Marital_Status']==0]\n",
        "\n",
        "#Calculate the Average Purchase marital status wise\n",
        "avg_married_purchase=married_customers['Purchase'].mean()\n",
        "avg_unmarried_purchase=unmarried_customers['Purchase'].mean()\n",
        "\n",
        "print(\"Average Purchase by married Customers:\", avg_married_purchase)\n",
        "print(\"Average Purchase by unmarried Customers:\", avg_unmarried_purchase)"
      ],
      "metadata": {
        "id": "FajoOXaaefYg"
      },
      "execution_count": null,
      "outputs": []
    },
    {
      "cell_type": "markdown",
      "source": [
        "CI calculation using married and unmarried samples respectively"
      ],
      "metadata": {
        "id": "U13sCYXXgYFY"
      }
    },
    {
      "cell_type": "code",
      "source": [
        "# CI using married sample\n",
        "\n",
        "#(95% confidence interval)\n",
        "print(\"90% confidence interval is \",norm.interval(confidence=0.90,loc=avg_married_purchase,scale=std_dev/len(married_customers)))\n",
        "\n",
        "#(95% confidence interval)\n",
        "print(\"95% confidence interval is \",norm.interval(confidence=0.95,loc=avg_married_purchase,scale=std_dev/len(married_customers)))\n",
        "\n",
        "#(99% confidence interval)\n",
        "print(\"99% confidence interval is \",norm.interval(confidence=0.99,loc=avg_married_purchase,scale=std_dev/len(married_customers)))\n",
        "\n"
      ],
      "metadata": {
        "colab": {
          "base_uri": "https://localhost:8080/"
        },
        "id": "OCWFnobCgmdQ",
        "outputId": "77df57d7-4930-468e-a47f-e45ad37e8696"
      },
      "execution_count": null,
      "outputs": [
        {
          "output_type": "stream",
          "name": "stdout",
          "text": [
            "90% confidence interval is  (9261.137908078426, 9261.21124008632)\n",
            "95% confidence interval is  (9261.130883843913, 9261.218264320834)\n",
            "99% confidence interval is  (9261.117155376014, 9261.231992788733)\n"
          ]
        }
      ]
    },
    {
      "cell_type": "code",
      "source": [
        "# CI using unmarried sample\n",
        "\n",
        "#(95% confidence interval)\n",
        "print(\"90% confidence interval is \",norm.interval(confidence=0.90,loc=avg_unmarried_purchase,scale=std_dev/len(unmarried_customers)))\n",
        "\n",
        "#(95% confidence interval)\n",
        "print(\"95% confidence interval is \",norm.interval(confidence=0.95,loc=avg_unmarried_purchase,scale=std_dev/len(unmarried_customers)))\n",
        "\n",
        "#(99% confidence interval)\n",
        "print(\"99% confidence interval is \",norm.interval(confidence=0.99,loc=avg_unmarried_purchase,scale=std_dev/len(unmarried_customers)))\n"
      ],
      "metadata": {
        "colab": {
          "base_uri": "https://localhost:8080/"
        },
        "id": "xz76ZzlOhqD-",
        "outputId": "17ba8066-33a7-4d74-a77d-c5cea494553c"
      },
      "execution_count": null,
      "outputs": [
        {
          "output_type": "stream",
          "name": "stdout",
          "text": [
            "90% confidence interval is  (9265.882175685932, 9265.93306215708)\n",
            "95% confidence interval is  (9265.877301436376, 9265.937936406637)\n",
            "99% confidence interval is  (9265.867774992115, 9265.947462850898)\n"
          ]
        }
      ]
    },
    {
      "cell_type": "markdown",
      "source": [
        "## Age based Analysis"
      ],
      "metadata": {
        "id": "OJSOGse8iNMX"
      }
    },
    {
      "cell_type": "markdown",
      "source": [
        "mapping for life stages:\n",
        "A1 : 0-17\n",
        "A2 : 18-25\n",
        "A3 : 26-35\n",
        "A4 : 36-45\n",
        "A5 : 46-50\n",
        "A6 : 51-55\n",
        "A7 : 55+"
      ],
      "metadata": {
        "id": "UDmOZFG5ikEQ"
      }
    },
    {
      "cell_type": "code",
      "source": [
        "#Separate married and unmarried customers in the data.\n",
        "A1_customers=df[df['Age']=='0-17']\n",
        "A2_customers=df[df['Age']=='18-25']\n",
        "A3_customers=df[df['Age']=='26-35']\n",
        "A4_customers=df[df['Age']=='36-45']\n",
        "A5_customers=df[df['Age']=='46-50']\n",
        "A6_customers=df[df['Age']=='51-55']\n",
        "A7_customers=df[df['Age']=='55+']\n",
        "\n",
        "#Calculate the Average Purchase age status wise\n",
        "avg_A1_purchase=A1_customers['Purchase'].mean()\n",
        "avg_A2_purchase=A2_customers['Purchase'].mean()\n",
        "avg_A3_purchase=A3_customers['Purchase'].mean()\n",
        "avg_A4_purchase=A4_customers['Purchase'].mean()\n",
        "avg_A5_purchase=A5_customers['Purchase'].mean()\n",
        "avg_A6_purchase=A6_customers['Purchase'].mean()\n",
        "avg_A7_purchase=A7_customers['Purchase'].mean()\n",
        "\n",
        "\n",
        "print(\"Average Purchase by A1 Customers:\", avg_A1_purchase)\n",
        "print(\"Average Purchase by A2 Customers:\", avg_A2_purchase)\n",
        "print(\"Average Purchase by A3 Customers:\", avg_A3_purchase)\n",
        "print(\"Average Purchase by A4 Customers:\", avg_A4_purchase)\n",
        "print(\"Average Purchase by A5 Customers:\", avg_A5_purchase)\n",
        "print(\"Average Purchase by A6 Customers:\", avg_A6_purchase)\n",
        "print(\"Average Purchase by A7 Customers:\", avg_A7_purchase)"
      ],
      "metadata": {
        "colab": {
          "base_uri": "https://localhost:8080/"
        },
        "id": "kAQ5J9pAiVUL",
        "outputId": "989a1ae6-ce79-430e-c687-4035de79c493"
      },
      "execution_count": null,
      "outputs": [
        {
          "output_type": "stream",
          "name": "stdout",
          "text": [
            "Average Purchase by A1 Customers: 8933.464640444974\n",
            "Average Purchase by A2 Customers: 9169.663606261289\n",
            "Average Purchase by A3 Customers: 9252.690632869888\n",
            "Average Purchase by A4 Customers: 9331.350694917874\n",
            "Average Purchase by A5 Customers: 9208.625697468327\n",
            "Average Purchase by A6 Customers: 9534.808030960236\n",
            "Average Purchase by A7 Customers: 9336.280459449405\n"
          ]
        }
      ]
    },
    {
      "cell_type": "code",
      "source": [
        "# Calculate 95% Confidence intervals for all age bins\n",
        "\n",
        "print(\"95% confidence interval for A1 is \",norm.interval(confidence=0.95,loc=avg_A1_purchase,scale=std_dev/len(A1_customers)))\n",
        "print(\"95% confidence interval for A2 is \",norm.interval(confidence=0.95,loc=avg_A1_purchase,scale=std_dev/len(A2_customers)))\n",
        "print(\"95% confidence interval for A3 is \",norm.interval(confidence=0.95,loc=avg_A1_purchase,scale=std_dev/len(A3_customers)))\n",
        "print(\"95% confidence interval for A4 is \",norm.interval(confidence=0.95,loc=avg_A1_purchase,scale=std_dev/len(A4_customers)))\n",
        "print(\"95% confidence interval for A5 is \",norm.interval(confidence=0.95,loc=avg_A1_purchase,scale=std_dev/len(A5_customers)))\n",
        "print(\"95% confidence interval for A6 is \",norm.interval(confidence=0.95,loc=avg_A1_purchase,scale=std_dev/len(A6_customers)))\n",
        "print(\"95% confidence interval for A7 is \",norm.interval(confidence=0.95,loc=avg_A1_purchase,scale=std_dev/len(A7_customers)))\n"
      ],
      "metadata": {
        "colab": {
          "base_uri": "https://localhost:8080/"
        },
        "id": "U2YKXDnBknAV",
        "outputId": "9ef7d6e9-cfca-4711-9cce-97a3b3c4d0c3"
      },
      "execution_count": null,
      "outputs": [
        {
          "output_type": "stream",
          "name": "stdout",
          "text": [
            "95% confidence interval for A1 is  (8932.812738229117, 8934.116542660831)\n",
            "95% confidence interval for A2 is  (8933.36585429944, 8933.563426590508)\n",
            "95% confidence interval for A3 is  (8933.419806154858, 8933.50947473509)\n",
            "95% confidence interval for A4 is  (8933.375150773172, 8933.554130116776)\n",
            "95% confidence interval for A5 is  (8933.24921786639, 8933.680063023558)\n",
            "95% confidence interval for A6 is  (8933.208932092883, 8933.720348797066)\n",
            "95% confidence interval for A7 is  (8933.006817376527, 8933.922463513421)\n"
          ]
        }
      ]
    },
    {
      "cell_type": "markdown",
      "source": [
        "## CI using Bootstrapping (Experiment with Sample Sizes)"
      ],
      "metadata": {
        "id": "EzIBfvNTmNIT"
      }
    },
    {
      "cell_type": "markdown",
      "source": [
        "Lets test for sample sizes 100,1000,10000 respectively"
      ],
      "metadata": {
        "id": "TF_849EpmS3b"
      }
    },
    {
      "cell_type": "code",
      "source": [
        "survey=df['Purchase']\n",
        "\n",
        "def bootstrapp_func(sample_size):\n",
        "  bootstrapped_mean_survey=[]\n",
        "  for i in range(sample_size):\n",
        "    bootstrapped_sample=np.random.choice(survey,size=100)\n",
        "    bootstrapped_mean=np.mean(bootstrapped_sample)\n",
        "    bootstrapped_mean_survey.append(bootstrapped_mean)\n",
        "  sns.histplot(bootstrapped_mean_survey,kde=True)\n",
        "  #Now we need to calculate 95% CI\n",
        "  x1=np.percentile(bootstrapped_mean_survey,2.5)\n",
        "  x2=np.percentile(bootstrapped_mean_survey,97.5)\n",
        "  print(\"95% Confidence interval for sample size \",sample_size,\" is \",x1,\" - \",x2)"
      ],
      "metadata": {
        "id": "LAlNbKKlm1SY"
      },
      "execution_count": null,
      "outputs": []
    },
    {
      "cell_type": "code",
      "source": [
        "#CI for sample size 100\n",
        "\n",
        "bootstrapp_func(100)"
      ],
      "metadata": {
        "colab": {
          "base_uri": "https://localhost:8080/",
          "height": 448
        },
        "id": "3wWJvGT4pKIx",
        "outputId": "20621f60-f6e3-4ac1-be22-ec0ce81652a4"
      },
      "execution_count": null,
      "outputs": [
        {
          "output_type": "stream",
          "name": "stdout",
          "text": [
            "95% Confidence interval for sample size  100  is  8156.87775  -  10170.779\n"
          ]
        },
        {
          "output_type": "display_data",
          "data": {
            "text/plain": [
              "<Figure size 640x480 with 1 Axes>"
            ],
            "image/png": "[encoded data removed]"
          },
          "metadata": {}
        }
      ]
    },
    {
      "cell_type": "code",
      "source": [
        "#CI for sample size 1000\n",
        "\n",
        "bootstrapp_func(1000)"
      ],
      "metadata": {
        "colab": {
          "base_uri": "https://localhost:8080/",
          "height": 448
        },
        "id": "gLAgYTuTpbfK",
        "outputId": "0295f07d-f7c4-4aff-eca6-548e8fbfab90"
      },
      "execution_count": null,
      "outputs": [
        {
          "output_type": "stream",
          "name": "stdout",
          "text": [
            "95% Confidence interval for sample size  1000  is  8331.67425  -  10235.983\n"
          ]
        },
        {
          "output_type": "display_data",
          "data": {
            "text/plain": [
              "<Figure size 640x480 with 1 Axes>"
            ],
            "image/png": "[encoded data removed]"
          },
          "metadata": {}
        }
      ]
    },
    {
      "cell_type": "code",
      "source": [
        "#CI for sample size 10000\n",
        "\n",
        "bootstrapp_func(10000)"
      ],
      "metadata": {
        "colab": {
          "base_uri": "https://localhost:8080/",
          "height": 448
        },
        "id": "Pm1ADnAdpoKE",
        "outputId": "c8ed4dd4-13a4-4b6c-84de-a747a8b3439d"
      },
      "execution_count": null,
      "outputs": [
        {
          "output_type": "stream",
          "name": "stdout",
          "text": [
            "95% Confidence interval for sample size  10000  is  8291.038  -  10254.26175\n"
          ]
        },
        {
          "output_type": "display_data",
          "data": {
            "text/plain": [
              "<Figure size 640x480 with 1 Axes>"
            ],
            "image/png": "[encoded data removed]"
          },
          "metadata": {}
        }
      ]
    },
    {
      "cell_type": "markdown",
      "source": [
        "Using histplots we can see as and when we increasw sample size , plot comes more closer to normal distribution."
      ],
      "metadata": {
        "id": "SqNFeDDwptUO"
      }
    }
  ]
}